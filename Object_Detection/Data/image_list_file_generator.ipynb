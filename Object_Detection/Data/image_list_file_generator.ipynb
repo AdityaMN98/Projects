{
 "cells": [
  {
   "cell_type": "code",
   "execution_count": 1,
   "metadata": {},
   "outputs": [],
   "source": [
    "import os"
   ]
  },
  {
   "cell_type": "code",
   "execution_count": 2,
   "metadata": {},
   "outputs": [],
   "source": [
    "# select the id based on the image required - use class-descriptions-boxable.csv\n",
    "image_id = '/m/0k4j' #----id for cars\n",
    "num_of_train_samples = 800\n",
    "num_of_test_samples = 200"
   ]
  },
  {
   "cell_type": "code",
   "execution_count": 3,
   "metadata": {},
   "outputs": [
    {
     "name": "stdout",
     "output_type": "stream",
     "text": [
      "F:/Test_Environment/Project/YOLO/Data/train-annotations-bbox.csv\n"
     ]
    }
   ],
   "source": [
    "# location of the train data csv file\n",
    "train_filename = 'F:/Test_Environment/Project/YOLO/Data/train-annotations-bbox.csv'\n",
    "\n",
    "# create the file image_list_file\n",
    "image_list_file_path = os.path.join('.', 'image_list_file')\n",
    "\n",
    "# list to hold values\n",
    "image_id_list = []\n",
    "\n",
    "\n",
    "print(train_filename)\n",
    "with open(train_filename, 'r') as f:\n",
    "    line = f.readline()\n",
    "    while len(line) != 0:\n",
    "        id, _, label_name= line.split(',')[:3]\n",
    "        if label_name == image_id and id not in image_id_list:\n",
    "            image_id_list.append(id)\n",
    "            with open(image_list_file_path, 'a') as fw:\n",
    "                fw.write('{}/{}\\n'.format('train', id))\n",
    "        line = f.readline()\n",
    "        if len(image_id_list) == num_of_train_samples:\n",
    "            break\n",
    "    f.close()"
   ]
  },
  {
   "cell_type": "code",
   "execution_count": 4,
   "metadata": {},
   "outputs": [],
   "source": [
    "# Run the code in terminal to download the images \n",
    "# $IMAGE_LIST_FILE - image list file name - add path of file\n",
    "# $DOWNLOAD_FOLDER - name of folder in which images should be downloaded\n",
    "# CODE:  python downloader.py $IMAGE_LIST_FILE(path) --download_folder=$DOWNLOAD_FOLDER(path) --num_processes=5\n",
    "# python downloader.py F:/Test_Environment/Project/YOLO/Data/image_list_file --download_folder=Image/train --num_processes=5"
   ]
  },
  {
   "cell_type": "code",
   "execution_count": 4,
   "metadata": {},
   "outputs": [],
   "source": [
    "# deleting the image list file\n",
    "path = 'F:\\Test_Environment\\Project\\YOLO\\Data\\image_list_file' \n",
    "if os.path.exists(path):\n",
    "    os.remove(path)\n"
   ]
  },
  {
   "cell_type": "code",
   "execution_count": 6,
   "metadata": {},
   "outputs": [
    {
     "name": "stdout",
     "output_type": "stream",
     "text": [
      "F:/Test_Environment/Project/YOLO/Data/test-annotations-bbox.csv\n"
     ]
    }
   ],
   "source": [
    "# location of the train data csv file\n",
    "test_filename = 'F:/Test_Environment/Project/YOLO/Data/test-annotations-bbox.csv'\n",
    "\n",
    "# create the file image_list_file\n",
    "image_list_file_path = os.path.join('.', 'image_list_file')\n",
    "\n",
    "# list to hold values\n",
    "image_id_list = []\n",
    "\n",
    "\n",
    "print(test_filename)\n",
    "with open(test_filename, 'r') as f:\n",
    "    line = f.readline()\n",
    "    while len(line) != 0:\n",
    "        id, _, label_name= line.split(',')[:3]\n",
    "        if label_name == image_id and id not in image_id_list:\n",
    "            image_id_list.append(id)\n",
    "            with open(image_list_file_path, 'a') as fw:\n",
    "                fw.write('{}/{}\\n'.format('test', id))\n",
    "        line = f.readline()\n",
    "        if len(image_id_list) == num_of_test_samples:\n",
    "            break\n",
    "    f.close()"
   ]
  },
  {
   "cell_type": "code",
   "execution_count": 7,
   "metadata": {},
   "outputs": [],
   "source": [
    "# Run the code in terminal to download the images \n",
    "# $IMAGE_LIST_FILE - image list file name - add path of file\n",
    "# $DOWNLOAD_FOLDER - name of folder in which images should be downloaded\n",
    "# CODE:  python downloader.py $IMAGE_LIST_FILE(path) --download_folder=$DOWNLOAD_FOLDER(path) --num_processes=5\n",
    "# python downloader.py F:/Test_Environment/Project/YOLO/Data/image_list_file --download_folder=Image/test --num_processes=5"
   ]
  }
 ],
 "metadata": {
  "kernelspec": {
   "display_name": "venv",
   "language": "python",
   "name": "python3"
  },
  "language_info": {
   "codemirror_mode": {
    "name": "ipython",
    "version": 3
   },
   "file_extension": ".py",
   "mimetype": "text/x-python",
   "name": "python",
   "nbconvert_exporter": "python",
   "pygments_lexer": "ipython3",
   "version": "3.11.3"
  }
 },
 "nbformat": 4,
 "nbformat_minor": 2
}
